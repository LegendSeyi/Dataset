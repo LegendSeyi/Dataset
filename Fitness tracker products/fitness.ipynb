{
 "cells": [
  {
   "cell_type": "code",
   "execution_count": 1,
   "id": "f215b293-03f2-4e21-998c-8689c21f9393",
   "metadata": {},
   "outputs": [],
   "source": [
    "import pandas as pd"
   ]
  },
  {
   "cell_type": "code",
   "execution_count": 2,
   "id": "eac4de16-b3e3-4647-937e-0d8b406819e1",
   "metadata": {},
   "outputs": [],
   "source": [
    "df = pd.read_csv('Fitness_trackers_updated.csv')"
   ]
  },
  {
   "cell_type": "code",
   "execution_count": 3,
   "id": "35ecc097-b19d-4f13-9afa-e326bc0a3821",
   "metadata": {},
   "outputs": [
    {
     "data": {
      "text/html": [
       "<div>\n",
       "<style scoped>\n",
       "    .dataframe tbody tr th:only-of-type {\n",
       "        vertical-align: middle;\n",
       "    }\n",
       "\n",
       "    .dataframe tbody tr th {\n",
       "        vertical-align: top;\n",
       "    }\n",
       "\n",
       "    .dataframe thead th {\n",
       "        text-align: right;\n",
       "    }\n",
       "</style>\n",
       "<table border=\"1\" class=\"dataframe\">\n",
       "  <thead>\n",
       "    <tr style=\"text-align: right;\">\n",
       "      <th></th>\n",
       "      <th>Brand Name</th>\n",
       "      <th>Device Type</th>\n",
       "      <th>Model Name</th>\n",
       "      <th>Color</th>\n",
       "      <th>Selling Price</th>\n",
       "      <th>Original Price</th>\n",
       "      <th>Display</th>\n",
       "      <th>Rating (Out of 5)</th>\n",
       "      <th>Strap Material</th>\n",
       "      <th>Average Battery Life (in days)</th>\n",
       "      <th>Reviews</th>\n",
       "    </tr>\n",
       "  </thead>\n",
       "  <tbody>\n",
       "    <tr>\n",
       "      <th>0</th>\n",
       "      <td>Xiaomi</td>\n",
       "      <td>FitnessBand</td>\n",
       "      <td>Smart Band 5</td>\n",
       "      <td>Black</td>\n",
       "      <td>2,499</td>\n",
       "      <td>2,999</td>\n",
       "      <td>AMOLED Display</td>\n",
       "      <td>4.1</td>\n",
       "      <td>Thermoplastic polyurethane</td>\n",
       "      <td>14</td>\n",
       "      <td>NaN</td>\n",
       "    </tr>\n",
       "    <tr>\n",
       "      <th>1</th>\n",
       "      <td>Xiaomi</td>\n",
       "      <td>FitnessBand</td>\n",
       "      <td>Smart Band 4</td>\n",
       "      <td>Black</td>\n",
       "      <td>2,099</td>\n",
       "      <td>2,499</td>\n",
       "      <td>AMOLED Display</td>\n",
       "      <td>4.2</td>\n",
       "      <td>Thermoplastic polyurethane</td>\n",
       "      <td>14</td>\n",
       "      <td>NaN</td>\n",
       "    </tr>\n",
       "    <tr>\n",
       "      <th>2</th>\n",
       "      <td>Xiaomi</td>\n",
       "      <td>FitnessBand</td>\n",
       "      <td>HMSH01GE</td>\n",
       "      <td>Black</td>\n",
       "      <td>1,722</td>\n",
       "      <td>2,099</td>\n",
       "      <td>LCD Display</td>\n",
       "      <td>3.5</td>\n",
       "      <td>Leather</td>\n",
       "      <td>14</td>\n",
       "      <td>NaN</td>\n",
       "    </tr>\n",
       "    <tr>\n",
       "      <th>3</th>\n",
       "      <td>Xiaomi</td>\n",
       "      <td>FitnessBand</td>\n",
       "      <td>Smart Band 5</td>\n",
       "      <td>Black</td>\n",
       "      <td>2,469</td>\n",
       "      <td>2,999</td>\n",
       "      <td>AMOLED Display</td>\n",
       "      <td>4.1</td>\n",
       "      <td>Thermoplastic polyurethane</td>\n",
       "      <td>14</td>\n",
       "      <td>NaN</td>\n",
       "    </tr>\n",
       "    <tr>\n",
       "      <th>4</th>\n",
       "      <td>Xiaomi</td>\n",
       "      <td>FitnessBand</td>\n",
       "      <td>Band 3</td>\n",
       "      <td>Black</td>\n",
       "      <td>1,799</td>\n",
       "      <td>2,199</td>\n",
       "      <td>OLED Display</td>\n",
       "      <td>4.3</td>\n",
       "      <td>Plastic</td>\n",
       "      <td>7</td>\n",
       "      <td>NaN</td>\n",
       "    </tr>\n",
       "  </tbody>\n",
       "</table>\n",
       "</div>"
      ],
      "text/plain": [
       "  Brand Name  Device Type    Model Name  Color Selling Price Original Price  \\\n",
       "0     Xiaomi  FitnessBand  Smart Band 5  Black         2,499          2,999   \n",
       "1     Xiaomi  FitnessBand  Smart Band 4  Black         2,099          2,499   \n",
       "2     Xiaomi  FitnessBand      HMSH01GE  Black         1,722          2,099   \n",
       "3     Xiaomi  FitnessBand  Smart Band 5  Black         2,469          2,999   \n",
       "4     Xiaomi  FitnessBand        Band 3  Black         1,799          2,199   \n",
       "\n",
       "          Display  Rating (Out of 5)              Strap Material  \\\n",
       "0  AMOLED Display                4.1  Thermoplastic polyurethane   \n",
       "1  AMOLED Display                4.2  Thermoplastic polyurethane   \n",
       "2     LCD Display                3.5                     Leather   \n",
       "3  AMOLED Display                4.1  Thermoplastic polyurethane   \n",
       "4    OLED Display                4.3                     Plastic   \n",
       "\n",
       "   Average Battery Life (in days) Reviews  \n",
       "0                              14     NaN  \n",
       "1                              14     NaN  \n",
       "2                              14     NaN  \n",
       "3                              14     NaN  \n",
       "4                               7     NaN  "
      ]
     },
     "execution_count": 3,
     "metadata": {},
     "output_type": "execute_result"
    }
   ],
   "source": [
    "df.head()"
   ]
  },
  {
   "cell_type": "markdown",
   "id": "feb8841e-13ff-4cfc-8752-822d6ebf648b",
   "metadata": {},
   "source": [
    "## Clean column names"
   ]
  },
  {
   "cell_type": "code",
   "execution_count": 4,
   "id": "9eaea647-b655-4399-80ad-d4e1145f14c7",
   "metadata": {},
   "outputs": [],
   "source": [
    "df = df.rename(columns = {'Rating (Out of 5)' : 'rating', 'Average Battery Life (in days)' : 'avg_battery_life_days'})"
   ]
  },
  {
   "cell_type": "code",
   "execution_count": 5,
   "id": "79be0918-3025-4fc2-ba82-a388461ce847",
   "metadata": {},
   "outputs": [
    {
     "data": {
      "text/plain": [
       "Index(['Brand Name', 'Device Type', 'Model Name', 'Color', 'Selling Price',\n",
       "       'Original Price', 'Display', 'rating', 'Strap Material',\n",
       "       'avg_battery_life_days', 'Reviews'],\n",
       "      dtype='object')"
      ]
     },
     "execution_count": 5,
     "metadata": {},
     "output_type": "execute_result"
    }
   ],
   "source": [
    "df.columns"
   ]
  },
  {
   "cell_type": "code",
   "execution_count": 6,
   "id": "cb4950f8-28d8-469a-ace6-75b8c49a058a",
   "metadata": {},
   "outputs": [],
   "source": [
    "new_cols = [i.lower().replace(' ', '_') for i in df.columns]"
   ]
  },
  {
   "cell_type": "markdown",
   "id": "93f4ade4-7507-4c7a-97b7-f22ad13ca79d",
   "metadata": {},
   "source": [
    "Add INR (Indian Rupees) to prices:"
   ]
  },
  {
   "cell_type": "code",
   "execution_count": 7,
   "id": "b30466b7-8b54-4aac-9f26-ae65fce3dbeb",
   "metadata": {},
   "outputs": [],
   "source": [
    "new_cols = [i + '_INR' if i.endswith('price') else i for i in new_cols]"
   ]
  },
  {
   "cell_type": "code",
   "execution_count": 8,
   "id": "a5c08075-b9c4-42b1-91ad-c89a67e9a5f5",
   "metadata": {},
   "outputs": [
    {
     "data": {
      "text/plain": [
       "['brand_name',\n",
       " 'device_type',\n",
       " 'model_name',\n",
       " 'color',\n",
       " 'selling_price_INR',\n",
       " 'original_price_INR',\n",
       " 'display',\n",
       " 'rating',\n",
       " 'strap_material',\n",
       " 'avg_battery_life_days',\n",
       " 'reviews']"
      ]
     },
     "execution_count": 8,
     "metadata": {},
     "output_type": "execute_result"
    }
   ],
   "source": [
    "new_cols"
   ]
  },
  {
   "cell_type": "code",
   "execution_count": 9,
   "id": "f2c2cd1d-e162-4609-ae8e-bb703a852068",
   "metadata": {},
   "outputs": [],
   "source": [
    "df.columns = new_cols"
   ]
  },
  {
   "cell_type": "markdown",
   "id": "d69147e7-f389-42d3-8f8f-0d218b5b73d2",
   "metadata": {},
   "source": [
    "## Fix dtypes"
   ]
  },
  {
   "cell_type": "code",
   "execution_count": 10,
   "id": "857dea6e-9e62-4d12-84a9-a1fc5387e14d",
   "metadata": {},
   "outputs": [
    {
     "data": {
      "text/plain": [
       "brand_name                object\n",
       "device_type               object\n",
       "model_name                object\n",
       "color                     object\n",
       "selling_price_INR         object\n",
       "original_price_INR        object\n",
       "display                   object\n",
       "rating                   float64\n",
       "strap_material            object\n",
       "avg_battery_life_days      int64\n",
       "reviews                   object\n",
       "dtype: object"
      ]
     },
     "execution_count": 10,
     "metadata": {},
     "output_type": "execute_result"
    }
   ],
   "source": [
    "df.dtypes"
   ]
  },
  {
   "cell_type": "markdown",
   "id": "f5cf6e13-d9e5-4c47-b1a1-45afea48f2c2",
   "metadata": {},
   "source": [
    "At least, to start with, `selling_price` and `original_price` should be `float` dtype."
   ]
  },
  {
   "cell_type": "code",
   "execution_count": 11,
   "id": "5db6d51f-6ee9-43d1-a445-3a67c315092c",
   "metadata": {},
   "outputs": [],
   "source": [
    "df.selling_price_INR = df.selling_price_INR.str.replace(',', '').astype(float)\n",
    "df.original_price_INR = df.original_price_INR.str.replace(',', '').astype(float)"
   ]
  },
  {
   "cell_type": "markdown",
   "id": "e217983d-2286-43ee-8efe-798e82e50296",
   "metadata": {},
   "source": [
    "Create additional price columns in USD. Current exchange rate (2023-10-09) is 1000 INR = 12 USD"
   ]
  },
  {
   "cell_type": "code",
   "execution_count": 13,
   "id": "72a4fb82-d21d-410f-ae60-108cfd6d4746",
   "metadata": {},
   "outputs": [],
   "source": [
    "df['selling_price_USD'] = df.selling_price_INR / 1000 * 12\n",
    "df['original_price_USD'] = df.original_price_INR / 1000 * 12"
   ]
  },
  {
   "cell_type": "code",
   "execution_count": 14,
   "id": "6d4d97ba-49ef-48f3-b9ea-60cd4e92909f",
   "metadata": {},
   "outputs": [
    {
     "data": {
      "text/plain": [
       "brand_name                object\n",
       "device_type               object\n",
       "model_name                object\n",
       "color                     object\n",
       "selling_price_INR        float64\n",
       "original_price_INR       float64\n",
       "display                   object\n",
       "rating                   float64\n",
       "strap_material            object\n",
       "avg_battery_life_days      int64\n",
       "reviews                   object\n",
       "selling_price_USD        float64\n",
       "original_price_USD       float64\n",
       "dtype: object"
      ]
     },
     "execution_count": 14,
     "metadata": {},
     "output_type": "execute_result"
    }
   ],
   "source": [
    "df.dtypes"
   ]
  },
  {
   "cell_type": "markdown",
   "id": "3bfa9b3a-056d-45f8-92f0-d1c71c5966ee",
   "metadata": {},
   "source": [
    "Reorder the columns:"
   ]
  },
  {
   "cell_type": "code",
   "execution_count": 15,
   "id": "6c1e6f4d-a3d0-488b-94ea-12334f549287",
   "metadata": {},
   "outputs": [
    {
     "data": {
      "text/plain": [
       "Index(['brand_name', 'device_type', 'model_name', 'color', 'selling_price_INR',\n",
       "       'original_price_INR', 'display', 'rating', 'strap_material',\n",
       "       'avg_battery_life_days', 'reviews', 'selling_price_USD',\n",
       "       'original_price_USD'],\n",
       "      dtype='object')"
      ]
     },
     "execution_count": 15,
     "metadata": {},
     "output_type": "execute_result"
    }
   ],
   "source": [
    "df.columns"
   ]
  },
  {
   "cell_type": "code",
   "execution_count": 17,
   "id": "ce230a91-726b-4336-aa01-8ab76f47a240",
   "metadata": {},
   "outputs": [],
   "source": [
    "rearranged_cols = ['brand_name', 'device_type', 'model_name', 'color',\n",
    "                   'selling_price_INR', 'selling_price_USD',\n",
    "                   'original_price_INR', 'original_price_USD',\n",
    "                   'display', 'rating', 'strap_material',\n",
    "                   'avg_battery_life_days', 'reviews']"
   ]
  },
  {
   "cell_type": "code",
   "execution_count": 19,
   "id": "f7b9c747-3e6a-455a-98ab-b3382c113715",
   "metadata": {},
   "outputs": [],
   "source": [
    "df = df[rearranged_cols]"
   ]
  },
  {
   "cell_type": "code",
   "execution_count": 20,
   "id": "0de6ae14-e21e-448f-baf0-0db63dfa3d81",
   "metadata": {},
   "outputs": [
    {
     "data": {
      "text/html": [
       "<div>\n",
       "<style scoped>\n",
       "    .dataframe tbody tr th:only-of-type {\n",
       "        vertical-align: middle;\n",
       "    }\n",
       "\n",
       "    .dataframe tbody tr th {\n",
       "        vertical-align: top;\n",
       "    }\n",
       "\n",
       "    .dataframe thead th {\n",
       "        text-align: right;\n",
       "    }\n",
       "</style>\n",
       "<table border=\"1\" class=\"dataframe\">\n",
       "  <thead>\n",
       "    <tr style=\"text-align: right;\">\n",
       "      <th></th>\n",
       "      <th>brand_name</th>\n",
       "      <th>device_type</th>\n",
       "      <th>model_name</th>\n",
       "      <th>color</th>\n",
       "      <th>selling_price_INR</th>\n",
       "      <th>selling_price_USD</th>\n",
       "      <th>original_price_INR</th>\n",
       "      <th>original_price_USD</th>\n",
       "      <th>display</th>\n",
       "      <th>rating</th>\n",
       "      <th>strap_material</th>\n",
       "      <th>avg_battery_life_days</th>\n",
       "      <th>reviews</th>\n",
       "    </tr>\n",
       "  </thead>\n",
       "  <tbody>\n",
       "    <tr>\n",
       "      <th>0</th>\n",
       "      <td>Xiaomi</td>\n",
       "      <td>FitnessBand</td>\n",
       "      <td>Smart Band 5</td>\n",
       "      <td>Black</td>\n",
       "      <td>2499.0</td>\n",
       "      <td>29.988</td>\n",
       "      <td>2999.0</td>\n",
       "      <td>35.988</td>\n",
       "      <td>AMOLED Display</td>\n",
       "      <td>4.1</td>\n",
       "      <td>Thermoplastic polyurethane</td>\n",
       "      <td>14</td>\n",
       "      <td>NaN</td>\n",
       "    </tr>\n",
       "    <tr>\n",
       "      <th>1</th>\n",
       "      <td>Xiaomi</td>\n",
       "      <td>FitnessBand</td>\n",
       "      <td>Smart Band 4</td>\n",
       "      <td>Black</td>\n",
       "      <td>2099.0</td>\n",
       "      <td>25.188</td>\n",
       "      <td>2499.0</td>\n",
       "      <td>29.988</td>\n",
       "      <td>AMOLED Display</td>\n",
       "      <td>4.2</td>\n",
       "      <td>Thermoplastic polyurethane</td>\n",
       "      <td>14</td>\n",
       "      <td>NaN</td>\n",
       "    </tr>\n",
       "  </tbody>\n",
       "</table>\n",
       "</div>"
      ],
      "text/plain": [
       "  brand_name  device_type    model_name  color  selling_price_INR  \\\n",
       "0     Xiaomi  FitnessBand  Smart Band 5  Black             2499.0   \n",
       "1     Xiaomi  FitnessBand  Smart Band 4  Black             2099.0   \n",
       "\n",
       "   selling_price_USD  original_price_INR  original_price_USD         display  \\\n",
       "0             29.988              2999.0              35.988  AMOLED Display   \n",
       "1             25.188              2499.0              29.988  AMOLED Display   \n",
       "\n",
       "   rating              strap_material  avg_battery_life_days reviews  \n",
       "0     4.1  Thermoplastic polyurethane                     14     NaN  \n",
       "1     4.2  Thermoplastic polyurethane                     14     NaN  "
      ]
     },
     "execution_count": 20,
     "metadata": {},
     "output_type": "execute_result"
    }
   ],
   "source": [
    "df.head(2)"
   ]
  },
  {
   "cell_type": "markdown",
   "id": "d25cdc4f-f8e7-4751-97ec-5fee4b157927",
   "metadata": {},
   "source": [
    "## Check object variables"
   ]
  },
  {
   "cell_type": "code",
   "execution_count": 21,
   "id": "ec6a9605-d031-432a-a17e-bacf0c1fec2c",
   "metadata": {},
   "outputs": [
    {
     "data": {
      "text/html": [
       "<div>\n",
       "<style scoped>\n",
       "    .dataframe tbody tr th:only-of-type {\n",
       "        vertical-align: middle;\n",
       "    }\n",
       "\n",
       "    .dataframe tbody tr th {\n",
       "        vertical-align: top;\n",
       "    }\n",
       "\n",
       "    .dataframe thead th {\n",
       "        text-align: right;\n",
       "    }\n",
       "</style>\n",
       "<table border=\"1\" class=\"dataframe\">\n",
       "  <thead>\n",
       "    <tr style=\"text-align: right;\">\n",
       "      <th></th>\n",
       "      <th>brand_name</th>\n",
       "      <th>device_type</th>\n",
       "      <th>model_name</th>\n",
       "      <th>color</th>\n",
       "      <th>display</th>\n",
       "      <th>strap_material</th>\n",
       "      <th>reviews</th>\n",
       "    </tr>\n",
       "  </thead>\n",
       "  <tbody>\n",
       "    <tr>\n",
       "      <th>0</th>\n",
       "      <td>Xiaomi</td>\n",
       "      <td>FitnessBand</td>\n",
       "      <td>Smart Band 5</td>\n",
       "      <td>Black</td>\n",
       "      <td>AMOLED Display</td>\n",
       "      <td>Thermoplastic polyurethane</td>\n",
       "      <td>NaN</td>\n",
       "    </tr>\n",
       "    <tr>\n",
       "      <th>1</th>\n",
       "      <td>Xiaomi</td>\n",
       "      <td>FitnessBand</td>\n",
       "      <td>Smart Band 4</td>\n",
       "      <td>Black</td>\n",
       "      <td>AMOLED Display</td>\n",
       "      <td>Thermoplastic polyurethane</td>\n",
       "      <td>NaN</td>\n",
       "    </tr>\n",
       "    <tr>\n",
       "      <th>2</th>\n",
       "      <td>Xiaomi</td>\n",
       "      <td>FitnessBand</td>\n",
       "      <td>HMSH01GE</td>\n",
       "      <td>Black</td>\n",
       "      <td>LCD Display</td>\n",
       "      <td>Leather</td>\n",
       "      <td>NaN</td>\n",
       "    </tr>\n",
       "    <tr>\n",
       "      <th>3</th>\n",
       "      <td>Xiaomi</td>\n",
       "      <td>FitnessBand</td>\n",
       "      <td>Smart Band 5</td>\n",
       "      <td>Black</td>\n",
       "      <td>AMOLED Display</td>\n",
       "      <td>Thermoplastic polyurethane</td>\n",
       "      <td>NaN</td>\n",
       "    </tr>\n",
       "    <tr>\n",
       "      <th>4</th>\n",
       "      <td>Xiaomi</td>\n",
       "      <td>FitnessBand</td>\n",
       "      <td>Band 3</td>\n",
       "      <td>Black</td>\n",
       "      <td>OLED Display</td>\n",
       "      <td>Plastic</td>\n",
       "      <td>NaN</td>\n",
       "    </tr>\n",
       "    <tr>\n",
       "      <th>...</th>\n",
       "      <td>...</td>\n",
       "      <td>...</td>\n",
       "      <td>...</td>\n",
       "      <td>...</td>\n",
       "      <td>...</td>\n",
       "      <td>...</td>\n",
       "      <td>...</td>\n",
       "    </tr>\n",
       "    <tr>\n",
       "      <th>605</th>\n",
       "      <td>Fire-Boltt</td>\n",
       "      <td>Smartwatch</td>\n",
       "      <td>Talk Bluetooth</td>\n",
       "      <td>Black, Grey, Green</td>\n",
       "      <td>HD Display</td>\n",
       "      <td>Silicone</td>\n",
       "      <td>923</td>\n",
       "    </tr>\n",
       "    <tr>\n",
       "      <th>606</th>\n",
       "      <td>Fire-Boltt</td>\n",
       "      <td>Smartwatch</td>\n",
       "      <td>Almighty</td>\n",
       "      <td>Orange</td>\n",
       "      <td>AMOLED Display</td>\n",
       "      <td>Silicone</td>\n",
       "      <td>212</td>\n",
       "    </tr>\n",
       "    <tr>\n",
       "      <th>607</th>\n",
       "      <td>Fire-Boltt</td>\n",
       "      <td>Smartwatch</td>\n",
       "      <td>Mercury</td>\n",
       "      <td>Red</td>\n",
       "      <td>HD Display</td>\n",
       "      <td>Silicone</td>\n",
       "      <td>4941</td>\n",
       "    </tr>\n",
       "    <tr>\n",
       "      <th>608</th>\n",
       "      <td>Fire-Boltt</td>\n",
       "      <td>Smartwatch</td>\n",
       "      <td>Spin</td>\n",
       "      <td>White</td>\n",
       "      <td>TFT-LCD Display</td>\n",
       "      <td>Silicone</td>\n",
       "      <td>15</td>\n",
       "    </tr>\n",
       "    <tr>\n",
       "      <th>609</th>\n",
       "      <td>Fire-Boltt</td>\n",
       "      <td>Smartwatch</td>\n",
       "      <td>Ninja Pro</td>\n",
       "      <td>White</td>\n",
       "      <td>HD Display</td>\n",
       "      <td>Silicone</td>\n",
       "      <td>688</td>\n",
       "    </tr>\n",
       "  </tbody>\n",
       "</table>\n",
       "<p>610 rows × 7 columns</p>\n",
       "</div>"
      ],
      "text/plain": [
       "     brand_name  device_type      model_name               color  \\\n",
       "0        Xiaomi  FitnessBand    Smart Band 5               Black   \n",
       "1        Xiaomi  FitnessBand    Smart Band 4               Black   \n",
       "2        Xiaomi  FitnessBand        HMSH01GE               Black   \n",
       "3        Xiaomi  FitnessBand    Smart Band 5               Black   \n",
       "4        Xiaomi  FitnessBand          Band 3               Black   \n",
       "..          ...          ...             ...                 ...   \n",
       "605  Fire-Boltt   Smartwatch  Talk Bluetooth  Black, Grey, Green   \n",
       "606  Fire-Boltt   Smartwatch        Almighty              Orange   \n",
       "607  Fire-Boltt   Smartwatch         Mercury                 Red   \n",
       "608  Fire-Boltt   Smartwatch            Spin               White   \n",
       "609  Fire-Boltt   Smartwatch       Ninja Pro               White   \n",
       "\n",
       "             display              strap_material reviews  \n",
       "0     AMOLED Display  Thermoplastic polyurethane     NaN  \n",
       "1     AMOLED Display  Thermoplastic polyurethane     NaN  \n",
       "2        LCD Display                     Leather     NaN  \n",
       "3     AMOLED Display  Thermoplastic polyurethane     NaN  \n",
       "4       OLED Display                     Plastic     NaN  \n",
       "..               ...                         ...     ...  \n",
       "605       HD Display                    Silicone     923  \n",
       "606   AMOLED Display                    Silicone     212  \n",
       "607       HD Display                    Silicone    4941  \n",
       "608  TFT-LCD Display                    Silicone      15  \n",
       "609       HD Display                    Silicone     688  \n",
       "\n",
       "[610 rows x 7 columns]"
      ]
     },
     "execution_count": 21,
     "metadata": {},
     "output_type": "execute_result"
    }
   ],
   "source": [
    "df.select_dtypes(object)"
   ]
  },
  {
   "cell_type": "markdown",
   "id": "809add36-cb23-4253-bfe3-e0a92d6fdc12",
   "metadata": {},
   "source": [
    "Reviews values seem to be the number of reviews that a particular device has, but the dtype is wrong."
   ]
  },
  {
   "cell_type": "code",
   "execution_count": 87,
   "id": "182b80c5-a013-4074-9222-56c1a286b187",
   "metadata": {},
   "outputs": [
    {
     "data": {
      "text/plain": [
       "7          2\n",
       "8          3\n",
       "73      6568\n",
       "74     17809\n",
       "75     23426\n",
       "       ...  \n",
       "605      923\n",
       "606      212\n",
       "607     4941\n",
       "608       15\n",
       "609      688\n",
       "Name: reviews, Length: 114, dtype: object"
      ]
     },
     "execution_count": 87,
     "metadata": {},
     "output_type": "execute_result"
    }
   ],
   "source": [
    "df.reviews[df.reviews.notnull()]"
   ]
  },
  {
   "cell_type": "code",
   "execution_count": 89,
   "id": "aee3522f-28a2-4148-9cfe-cc0f27c17fdd",
   "metadata": {},
   "outputs": [],
   "source": [
    "#df.reviews.astype(float)"
   ]
  },
  {
   "cell_type": "markdown",
   "id": "1042079a-698b-455e-9808-8744faf39389",
   "metadata": {},
   "source": [
    "When attemping to convert to float, an error rose because some values are numbers with thousands comma. It will remove the thousands separator."
   ]
  },
  {
   "cell_type": "code",
   "execution_count": 92,
   "id": "65a800de-3fa5-427f-93e8-100d24ebfcb2",
   "metadata": {},
   "outputs": [],
   "source": [
    "df.reviews = df.reviews.str.replace(',', '').astype(float)"
   ]
  },
  {
   "cell_type": "markdown",
   "id": "98a6543f-9e15-443d-a9f8-2fc4ddeb6358",
   "metadata": {},
   "source": [
    "Turn `color` and `strap_material` into categorical variables."
   ]
  },
  {
   "cell_type": "code",
   "execution_count": 23,
   "id": "88c20ed9-e81f-4bc1-9d11-354827d1e564",
   "metadata": {},
   "outputs": [
    {
     "data": {
      "text/plain": [
       "array(['Thermoplastic polyurethane', 'Leather', 'Plastic', 'Silicone',\n",
       "       'Elastomer', 'Rubber', 'Fabric', 'Nylon', 'Stainless Steel',\n",
       "       'leather', 'Aluminium', 'Leather '], dtype=object)"
      ]
     },
     "execution_count": 23,
     "metadata": {},
     "output_type": "execute_result"
    }
   ],
   "source": [
    "df.strap_material.unique()"
   ]
  },
  {
   "cell_type": "code",
   "execution_count": 28,
   "id": "bb40cda2-d059-4168-a2df-d37dc6a03019",
   "metadata": {},
   "outputs": [],
   "source": [
    "df.strap_material = df.strap_material.astype('category')"
   ]
  },
  {
   "cell_type": "code",
   "execution_count": 47,
   "id": "bb00025a-5e97-4cb5-87ee-39f168fdd5f9",
   "metadata": {
    "collapsed": true,
    "jupyter": {
     "outputs_hidden": true
    },
    "scrolled": true
   },
   "outputs": [
    {
     "data": {
      "text/plain": [
       "array(['Black', 'Blue', 'Dual Color', 'Grey, Pink, Black',\n",
       "       'Black, Pink, Beige', 'Black, Blue, Pink',\n",
       "       'Storm Blue, Black, Rosewood', 'Maroon ',\n",
       "       'Black, Desert Rose, Lunar White', 'White ', 'Granite Reflective ',\n",
       "       'Lilac ', 'Violet, black, Grey, Teal, Blue, Red', 'Black ',\n",
       "       'Grey ', 'Charcoal ', 'Multicolor ', 'Blue ', 'Purple',\n",
       "       'Purple, White', 'Black, Plum, Grey', 'Plum silver', 'Purple ',\n",
       "       'Orange', 'Pink ', 'Orange, Pink, Green',\n",
       "       'Rose Gold, Gun Metal Black', 'Black, Purple, Teal, Blue',\n",
       "       'Violet ', 'Light Blue', 'Sky Blue ', 'Yellow', 'Grey',\n",
       "       'Pink, Black, Teal, Orange', 'Pink, Black',\n",
       "       'Sandstone Grey, Meteorite Black, Coral Pink, ',\n",
       "       'Meteorite Black, Midnight Navy', 'Dynamic Orange', 'Navy Blue',\n",
       "       'Olive Green', 'Black, Blue, Red', 'Black, Blue', 'Black, Gold',\n",
       "       'Pink, Silver, Black', 'Black, White', 'Black, Pink',\n",
       "       'Purple, Black', 'Orange, Red, Black', 'Green, Grey',\n",
       "       'Black, Green', 'Black, Teal Green, Grey', 'Black, Red, Blue',\n",
       "       'Black, Grey, Red', 'Charcoal Grey, Black, Pink',\n",
       "       'Green, Grey, Black, Blue, Pink, Red',\n",
       "       'Charcoal Black, Beige Gold', 'Black, Deep Wine, Blue, Grey, Teal',\n",
       "       'Blue, Black', 'Grey, Green', 'Green, Teal, Grey', 'Red, Black',\n",
       "       'Black, Blue, Teal', 'Brown', 'Beige', 'Pink', 'Black, Red',\n",
       "       'Grey, Blue', 'Red', 'Black, Beige', 'Silver', 'Silver, Green',\n",
       "       'Silver, Blue', 'Pink, Blue', 'Gold', 'Brown, Grey',\n",
       "       'Silver, Black', 'Multicolor', 'Rose Gold', 'Black, Silver ',\n",
       "       'Brown, Black', 'Grey, Multicolor', 'Navy ', 'White',\n",
       "       'Blue, Black, Gray', 'Silver, Brown', 'Rose Gold ', 'Brown, Gold',\n",
       "       'Blue, Silver', 'Gray', 'multicolor', 'Red, Green', 'Charcoal',\n",
       "       'Black, Pink, White', 'Pink Sand', 'Plum', 'Deep Navy',\n",
       "       'Graphite Milanese', 'black', 'Black Milanese', 'Gold Milanese',\n",
       "       'Cyprus Green', 'Saddle Brown', 'Space Black',\n",
       "       'Stainless Steel Milanese', 'Stone', 'Silver Milanese', 'Cloud',\n",
       "       'Milanese', 'Black Woven', 'Leather', 'Cocoa', 'Pearl Woven',\n",
       "       'Blue Modern', 'Multicolor, White, Brown', 'Grey, White',\n",
       "       'Black, Brown', 'Graphite, Sunburst', 'White, Black',\n",
       "       'Black, Red ', 'Flame Red', 'Grey, Yellow', 'White, Pink',\n",
       "       'Grey, Black', 'Black, Orange, Red', 'Magma Red',\n",
       "       'Black, Red, Orange', 'Purple, Grey, Brown, Black, White ',\n",
       "       'Graphite', 'Black, Grey', 'Black, Silver, White', 'Slate',\n",
       "       'Bluw, White ', 'Blue Sapphire', 'Tidal Blue', 'Red, White ',\n",
       "       'Tidal Blue, Flame Red', 'Powder Gray', 'Black, Green, Yellow',\n",
       "       'Rose Gold, Slate Black', 'Blue, Orange', 'Cerise',\n",
       "       'Black, White ', 'Frost Blue', 'Black, Silver', 'Green, Red',\n",
       "       'Green', 'Grey, Blue, Black, Red', 'Silver, Black, Green',\n",
       "       'Black, Blue, Grey, Pink, White', 'Black, Blue, White',\n",
       "       'Black, Grey, Pink', 'Black, Green, Grey',\n",
       "       'Black, Blue, Red, Rose Gold', 'Black, Grey, Silver',\n",
       "       'Black, Blue, Green, Grey, Pink', 'Beige, Black, Grey',\n",
       "       'Black, Blue, Grey, Pink ', 'Black, Blue, Green, Red, Beige, Grey',\n",
       "       'Black, Beige, Grey', 'Black, Blue, Grey, Pink, Gold',\n",
       "       'Black, Blue, Green', 'Black, Blue, Grey, Pink',\n",
       "       'Blue, Grey, Pink', 'Black, Grey, Green'], dtype=object)"
      ]
     },
     "execution_count": 47,
     "metadata": {},
     "output_type": "execute_result"
    }
   ],
   "source": [
    "df.color.unique()"
   ]
  },
  {
   "cell_type": "markdown",
   "id": "7aa90cff-7779-4206-806c-417dc00eed16",
   "metadata": {},
   "source": [
    "It turns out that the values of the `color` column needs some cleaning.  \n",
    "First I will get a list of available colors for every row in the `color` column."
   ]
  },
  {
   "cell_type": "code",
   "execution_count": 55,
   "id": "1c8b2835-6bb2-41b9-83c3-c319ce1bb5d9",
   "metadata": {},
   "outputs": [],
   "source": [
    "# create a copy to work with color values\n",
    "colours = df.color.copy()"
   ]
  },
  {
   "cell_type": "code",
   "execution_count": 56,
   "id": "dc05bf30-35f4-4473-9310-1911375b3814",
   "metadata": {},
   "outputs": [],
   "source": [
    "# remove trailing whitespaces and separate values into a list\n",
    "colours = colours.str.strip().str.split(', ')\n",
    "colours_titlecase = []\n",
    "# apply transformation to every list of colours\n",
    "for i in colours:\n",
    "    # only 1 colour, just set case to title\n",
    "    if len(i) == 1:\n",
    "        colours_titlecase.append( i[0].title() )\n",
    "    else :\n",
    "        # several colours --> set case to title\n",
    "        i = [colour.title() for colour in i]\n",
    "        # create a single string with all the colours in the list\n",
    "        i = ', '.join(i)\n",
    "        colours_titlecase.append(i)\n",
    "# create a series from colours_titlecase\n",
    "colours = pd.Series(colours_titlecase)"
   ]
  },
  {
   "cell_type": "code",
   "execution_count": 58,
   "id": "b9eadaea-4023-40f3-b3b1-6ca4297282b1",
   "metadata": {},
   "outputs": [
    {
     "data": {
      "text/plain": [
       "array(['Black', 'Blue', 'Dual Color', 'Grey, Pink, Black',\n",
       "       'Black, Pink, Beige', 'Black, Blue, Pink',\n",
       "       'Storm Blue, Black, Rosewood', 'Maroon',\n",
       "       'Black, Desert Rose, Lunar White', 'White', 'Granite Reflective',\n",
       "       'Lilac', 'Violet, Black, Grey, Teal, Blue, Red', 'Grey',\n",
       "       'Charcoal', 'Multicolor', 'Purple', 'Purple, White',\n",
       "       'Black, Plum, Grey', 'Plum Silver', 'Orange', 'Pink',\n",
       "       'Orange, Pink, Green', 'Rose Gold, Gun Metal Black',\n",
       "       'Black, Purple, Teal, Blue', 'Violet', 'Light Blue', 'Sky Blue',\n",
       "       'Yellow', 'Pink, Black, Teal, Orange', 'Pink, Black',\n",
       "       'Sandstone Grey, Meteorite Black, Coral Pink,',\n",
       "       'Meteorite Black, Midnight Navy', 'Dynamic Orange', 'Navy Blue',\n",
       "       'Olive Green', 'Black, Blue, Red', 'Black, Blue', 'Black, Gold',\n",
       "       'Pink, Silver, Black', 'Black, White', 'Black, Pink',\n",
       "       'Purple, Black', 'Orange, Red, Black', 'Green, Grey',\n",
       "       'Black, Green', 'Black, Teal Green, Grey', 'Black, Red, Blue',\n",
       "       'Black, Grey, Red', 'Charcoal Grey, Black, Pink',\n",
       "       'Green, Grey, Black, Blue, Pink, Red',\n",
       "       'Charcoal Black, Beige Gold', 'Black, Deep Wine, Blue, Grey, Teal',\n",
       "       'Blue, Black', 'Grey, Green', 'Green, Teal, Grey', 'Red, Black',\n",
       "       'Black, Blue, Teal', 'Brown', 'Beige', 'Black, Red', 'Grey, Blue',\n",
       "       'Red', 'Black, Beige', 'Silver', 'Silver, Green', 'Silver, Blue',\n",
       "       'Pink, Blue', 'Gold', 'Brown, Grey', 'Silver, Black', 'Rose Gold',\n",
       "       'Black, Silver', 'Brown, Black', 'Grey, Multicolor', 'Navy',\n",
       "       'Blue, Black, Gray', 'Silver, Brown', 'Brown, Gold',\n",
       "       'Blue, Silver', 'Gray', 'Red, Green', 'Black, Pink, White',\n",
       "       'Pink Sand', 'Plum', 'Deep Navy', 'Graphite Milanese',\n",
       "       'Black Milanese', 'Gold Milanese', 'Cyprus Green', 'Saddle Brown',\n",
       "       'Space Black', 'Stainless Steel Milanese', 'Stone',\n",
       "       'Silver Milanese', 'Cloud', 'Milanese', 'Black Woven', 'Leather',\n",
       "       'Cocoa', 'Pearl Woven', 'Blue Modern', 'Multicolor, White, Brown',\n",
       "       'Grey, White', 'Black, Brown', 'Graphite, Sunburst',\n",
       "       'White, Black', 'Flame Red', 'Grey, Yellow', 'White, Pink',\n",
       "       'Grey, Black', 'Black, Orange, Red', 'Magma Red',\n",
       "       'Black, Red, Orange', 'Purple, Grey, Brown, Black, White',\n",
       "       'Graphite', 'Black, Grey', 'Black, Silver, White', 'Slate',\n",
       "       'Bluw, White', 'Blue Sapphire', 'Tidal Blue', 'Red, White',\n",
       "       'Tidal Blue, Flame Red', 'Powder Gray', 'Black, Green, Yellow',\n",
       "       'Rose Gold, Slate Black', 'Blue, Orange', 'Cerise', 'Frost Blue',\n",
       "       'Green, Red', 'Green', 'Grey, Blue, Black, Red',\n",
       "       'Silver, Black, Green', 'Black, Blue, Grey, Pink, White',\n",
       "       'Black, Blue, White', 'Black, Grey, Pink', 'Black, Green, Grey',\n",
       "       'Black, Blue, Red, Rose Gold', 'Black, Grey, Silver',\n",
       "       'Black, Blue, Green, Grey, Pink', 'Beige, Black, Grey',\n",
       "       'Black, Blue, Grey, Pink', 'Black, Blue, Green, Red, Beige, Grey',\n",
       "       'Black, Beige, Grey', 'Black, Blue, Grey, Pink, Gold',\n",
       "       'Black, Blue, Green', 'Blue, Grey, Pink', 'Black, Grey, Green'],\n",
       "      dtype=object)"
      ]
     },
     "execution_count": 58,
     "metadata": {},
     "output_type": "execute_result"
    }
   ],
   "source": [
    "colours.unique()"
   ]
  },
  {
   "cell_type": "markdown",
   "id": "c1f5db3e-c6e5-45d8-a2a8-0335fba38ff5",
   "metadata": {},
   "source": [
    "Finally, I will save the processed colours to the dataset"
   ]
  },
  {
   "cell_type": "code",
   "execution_count": 59,
   "id": "290a5164-c780-41e1-93e7-d22069caf618",
   "metadata": {},
   "outputs": [],
   "source": [
    "df.color = colours"
   ]
  },
  {
   "cell_type": "code",
   "execution_count": 61,
   "id": "f405fce8-f9a4-48d6-be5e-385d7853ca10",
   "metadata": {},
   "outputs": [
    {
     "data": {
      "text/html": [
       "<div>\n",
       "<style scoped>\n",
       "    .dataframe tbody tr th:only-of-type {\n",
       "        vertical-align: middle;\n",
       "    }\n",
       "\n",
       "    .dataframe tbody tr th {\n",
       "        vertical-align: top;\n",
       "    }\n",
       "\n",
       "    .dataframe thead th {\n",
       "        text-align: right;\n",
       "    }\n",
       "</style>\n",
       "<table border=\"1\" class=\"dataframe\">\n",
       "  <thead>\n",
       "    <tr style=\"text-align: right;\">\n",
       "      <th></th>\n",
       "      <th>brand_name</th>\n",
       "      <th>device_type</th>\n",
       "      <th>model_name</th>\n",
       "      <th>color</th>\n",
       "      <th>display</th>\n",
       "      <th>reviews</th>\n",
       "    </tr>\n",
       "  </thead>\n",
       "  <tbody>\n",
       "    <tr>\n",
       "      <th>0</th>\n",
       "      <td>Xiaomi</td>\n",
       "      <td>FitnessBand</td>\n",
       "      <td>Smart Band 5</td>\n",
       "      <td>Black</td>\n",
       "      <td>AMOLED Display</td>\n",
       "      <td>NaN</td>\n",
       "    </tr>\n",
       "    <tr>\n",
       "      <th>1</th>\n",
       "      <td>Xiaomi</td>\n",
       "      <td>FitnessBand</td>\n",
       "      <td>Smart Band 4</td>\n",
       "      <td>Black</td>\n",
       "      <td>AMOLED Display</td>\n",
       "      <td>NaN</td>\n",
       "    </tr>\n",
       "    <tr>\n",
       "      <th>2</th>\n",
       "      <td>Xiaomi</td>\n",
       "      <td>FitnessBand</td>\n",
       "      <td>HMSH01GE</td>\n",
       "      <td>Black</td>\n",
       "      <td>LCD Display</td>\n",
       "      <td>NaN</td>\n",
       "    </tr>\n",
       "    <tr>\n",
       "      <th>3</th>\n",
       "      <td>Xiaomi</td>\n",
       "      <td>FitnessBand</td>\n",
       "      <td>Smart Band 5</td>\n",
       "      <td>Black</td>\n",
       "      <td>AMOLED Display</td>\n",
       "      <td>NaN</td>\n",
       "    </tr>\n",
       "    <tr>\n",
       "      <th>4</th>\n",
       "      <td>Xiaomi</td>\n",
       "      <td>FitnessBand</td>\n",
       "      <td>Band 3</td>\n",
       "      <td>Black</td>\n",
       "      <td>OLED Display</td>\n",
       "      <td>NaN</td>\n",
       "    </tr>\n",
       "    <tr>\n",
       "      <th>...</th>\n",
       "      <td>...</td>\n",
       "      <td>...</td>\n",
       "      <td>...</td>\n",
       "      <td>...</td>\n",
       "      <td>...</td>\n",
       "      <td>...</td>\n",
       "    </tr>\n",
       "    <tr>\n",
       "      <th>605</th>\n",
       "      <td>Fire-Boltt</td>\n",
       "      <td>Smartwatch</td>\n",
       "      <td>Talk Bluetooth</td>\n",
       "      <td>Black, Grey, Green</td>\n",
       "      <td>HD Display</td>\n",
       "      <td>923</td>\n",
       "    </tr>\n",
       "    <tr>\n",
       "      <th>606</th>\n",
       "      <td>Fire-Boltt</td>\n",
       "      <td>Smartwatch</td>\n",
       "      <td>Almighty</td>\n",
       "      <td>Orange</td>\n",
       "      <td>AMOLED Display</td>\n",
       "      <td>212</td>\n",
       "    </tr>\n",
       "    <tr>\n",
       "      <th>607</th>\n",
       "      <td>Fire-Boltt</td>\n",
       "      <td>Smartwatch</td>\n",
       "      <td>Mercury</td>\n",
       "      <td>Red</td>\n",
       "      <td>HD Display</td>\n",
       "      <td>4941</td>\n",
       "    </tr>\n",
       "    <tr>\n",
       "      <th>608</th>\n",
       "      <td>Fire-Boltt</td>\n",
       "      <td>Smartwatch</td>\n",
       "      <td>Spin</td>\n",
       "      <td>White</td>\n",
       "      <td>TFT-LCD Display</td>\n",
       "      <td>15</td>\n",
       "    </tr>\n",
       "    <tr>\n",
       "      <th>609</th>\n",
       "      <td>Fire-Boltt</td>\n",
       "      <td>Smartwatch</td>\n",
       "      <td>Ninja Pro</td>\n",
       "      <td>White</td>\n",
       "      <td>HD Display</td>\n",
       "      <td>688</td>\n",
       "    </tr>\n",
       "  </tbody>\n",
       "</table>\n",
       "<p>610 rows × 6 columns</p>\n",
       "</div>"
      ],
      "text/plain": [
       "     brand_name  device_type      model_name               color  \\\n",
       "0        Xiaomi  FitnessBand    Smart Band 5               Black   \n",
       "1        Xiaomi  FitnessBand    Smart Band 4               Black   \n",
       "2        Xiaomi  FitnessBand        HMSH01GE               Black   \n",
       "3        Xiaomi  FitnessBand    Smart Band 5               Black   \n",
       "4        Xiaomi  FitnessBand          Band 3               Black   \n",
       "..          ...          ...             ...                 ...   \n",
       "605  Fire-Boltt   Smartwatch  Talk Bluetooth  Black, Grey, Green   \n",
       "606  Fire-Boltt   Smartwatch        Almighty              Orange   \n",
       "607  Fire-Boltt   Smartwatch         Mercury                 Red   \n",
       "608  Fire-Boltt   Smartwatch            Spin               White   \n",
       "609  Fire-Boltt   Smartwatch       Ninja Pro               White   \n",
       "\n",
       "             display reviews  \n",
       "0     AMOLED Display     NaN  \n",
       "1     AMOLED Display     NaN  \n",
       "2        LCD Display     NaN  \n",
       "3     AMOLED Display     NaN  \n",
       "4       OLED Display     NaN  \n",
       "..               ...     ...  \n",
       "605       HD Display     923  \n",
       "606   AMOLED Display     212  \n",
       "607       HD Display    4941  \n",
       "608  TFT-LCD Display      15  \n",
       "609       HD Display     688  \n",
       "\n",
       "[610 rows x 6 columns]"
      ]
     },
     "execution_count": 61,
     "metadata": {},
     "output_type": "execute_result"
    }
   ],
   "source": [
    "df.select_dtypes(object)"
   ]
  },
  {
   "cell_type": "markdown",
   "id": "b7cde9f1-1916-4455-9fdd-05d8d0e44584",
   "metadata": {},
   "source": [
    "### Check uniqueness of variables "
   ]
  },
  {
   "cell_type": "markdown",
   "id": "79274e47-a372-4c7b-92a6-d3b2e00f969e",
   "metadata": {},
   "source": [
    "#### brand_name"
   ]
  },
  {
   "cell_type": "code",
   "execution_count": 62,
   "id": "3c534a92-4780-48e0-be36-78c0ce61b17b",
   "metadata": {},
   "outputs": [
    {
     "data": {
      "text/plain": [
       "array(['Xiaomi', 'OnePlus ', 'FitBit', 'realme', 'Huawei', 'Honor',\n",
       "       'GOQii', 'Infinix', 'LCARE', 'LAVA', 'Noise', 'Oppo', 'Fastrack',\n",
       "       'boAt ', 'Noise ', 'huami', 'SAMSUNG ', 'FOSSIL ', 'APPLE',\n",
       "       'GARMIN ', 'Crossbeats', 'dizo by realme ', 'Ptron', 'Zebronics',\n",
       "       'Fire-Boltt'], dtype=object)"
      ]
     },
     "execution_count": 62,
     "metadata": {},
     "output_type": "execute_result"
    }
   ],
   "source": [
    "df.brand_name.unique()"
   ]
  },
  {
   "cell_type": "code",
   "execution_count": 64,
   "id": "abb61dab-85b5-4518-8ad8-6e71260e219d",
   "metadata": {},
   "outputs": [
    {
     "data": {
      "text/plain": [
       "array(['Xiaomi', 'Oneplus ', 'Fitbit', 'Realme', 'Huawei', 'Honor',\n",
       "       'Goqii', 'Infinix', 'Lcare', 'Lava', 'Noise', 'Oppo', 'Fastrack',\n",
       "       'Boat ', 'Noise ', 'Huami', 'Samsung ', 'Fossil ', 'Apple',\n",
       "       'Garmin ', 'Crossbeats', 'Dizo By Realme ', 'Ptron', 'Zebronics',\n",
       "       'Fire-Boltt'], dtype=object)"
      ]
     },
     "execution_count": 64,
     "metadata": {},
     "output_type": "execute_result"
    }
   ],
   "source": [
    "df.brand_name.str.title().unique()"
   ]
  },
  {
   "cell_type": "code",
   "execution_count": 65,
   "id": "43ff9515-c7b9-47e8-89c9-93e08ee76b0f",
   "metadata": {},
   "outputs": [],
   "source": [
    "df.brand_name = df.brand_name.str.title()"
   ]
  },
  {
   "cell_type": "markdown",
   "id": "db94b32d-4c03-4913-b909-b069f714ec05",
   "metadata": {},
   "source": [
    "#### device_type"
   ]
  },
  {
   "cell_type": "code",
   "execution_count": 66,
   "id": "598352ca-63a7-4628-9b00-f11e5127c6b5",
   "metadata": {},
   "outputs": [
    {
     "data": {
      "text/plain": [
       "array(['FitnessBand', 'Smartwatch'], dtype=object)"
      ]
     },
     "execution_count": 66,
     "metadata": {},
     "output_type": "execute_result"
    }
   ],
   "source": [
    "df.device_type.unique()"
   ]
  },
  {
   "cell_type": "markdown",
   "id": "eaae5e8f-23b9-45ee-b900-fda66b4ebf4a",
   "metadata": {},
   "source": [
    "I will set the `device_type` to categorical."
   ]
  },
  {
   "cell_type": "code",
   "execution_count": 67,
   "id": "0c23ba84-5f27-4050-a2c1-3b92bd218bd8",
   "metadata": {},
   "outputs": [],
   "source": [
    "df.device_type = df.device_type.astype('category')"
   ]
  },
  {
   "cell_type": "markdown",
   "id": "83714d31-458c-4ac3-8f0c-e1533e56f0d8",
   "metadata": {},
   "source": [
    "#### model_name "
   ]
  },
  {
   "cell_type": "code",
   "execution_count": 69,
   "id": "7213da56-c861-4eb0-b968-129cc26042fb",
   "metadata": {
    "collapsed": true,
    "jupyter": {
     "outputs_hidden": true
    },
    "scrolled": true
   },
   "outputs": [
    {
     "data": {
      "text/plain": [
       "array(['Smart Band 5', 'Smart Band 4', 'HMSH01GE', 'Band 3',\n",
       "       'Band - HRX Edition', 'Band 2', 'Revolve', 'RevolveActive',\n",
       "       'Smart Band 3i', 'Steven Harrington Edition Band', 'Band',\n",
       "       'Versa 2', 'Sense', 'Versa 3', 'Charge 4', 'Inspire', 'Inspire 2',\n",
       "       'Lunar', 'FB413LVLV', 'Flex Small', 'Inspire HR', 'Charge 3',\n",
       "       'Versa Special Edition', 'Ionic', 'Versa 2 Special Edition',\n",
       "       'Versa', 'Surge', 'Charge 2', 'Charge 3 Special Edition', 'Blaze',\n",
       "       'Alta HR', 'Versa Lite Edition', 'versa', 'Charge HR', 'Alta',\n",
       "       'Smart band', 'Band 4', 'Band 6', 'Band 2 Pro Activity', 'Band 5i',\n",
       "       'Band 5', 'band 4 running', 'Band Z1', 'Beat', 'Vital 3.0',\n",
       "       'Watch', 'Mambo', 'BeFit', 'ColorFit', 'ColorFit2', '46 mm',\n",
       "       '41mm', '2 Pro', '2S', 'S', 'S Pro', 'S Master', 'Fashion',\n",
       "       'Classic', 'Reflex 3.0', 'Reflex Beat', 'Reflex Smart Band',\n",
       "       'Reflex 2.0', 'Storm', 'Xplorer', 'Delta', 'O2',\n",
       "       'ColorFit Qube SpO2', 'ColorFit Pro 3', 'ColorFit Brio',\n",
       "       'ColorFit Pro 2', 'Fit Active', 'ColorFit Qube',\n",
       "       'ColorFit Pro 2 Oxy', 'NoiseFit Endure', 'ColorFit Pro',\n",
       "       'Fit Evolve', 'Fusiom Hybrid', 'Evolve', 'Z1', 'GS Pro',\n",
       "       'Watch Magic', 'Magic Watch 2', 'Watch ES', 'Magic Watch',\n",
       "       'Amazfit GTS', 'Amazfit Bip U', 'Amazfit Bip S Lite',\n",
       "       'Amazfit T-Rex', 'Amazfit GTS 2e', 'Amazfit GTR 2 Aluminium',\n",
       "       'Amazfit GTS 2', 'Amazfit GTR 2 Stainless Steel', 'Amazfit Bip',\n",
       "       'Amazfit GTR 42 mm Glitter', 'Amazfit Neo', 'Amazfit Bip S',\n",
       "       'Amazfit GTR 42', 'Amazfit Stratos 3', 'Amazfit Pace',\n",
       "       'Amazfit GTR 47', 'Amazfit Verge', 'Amazfit Stratos',\n",
       "       'Amazfit Bip Lite', 'Amazfit Verge Lite', 'Bip Lite On',\n",
       "       'Galaxy Active 2', 'Galaxy Classic 4', 'Galaxy Classic 4 LTE',\n",
       "       'Galaxy Fit-e Smart', 'Galaxy Fit', 'Galaxy Watch 3',\n",
       "       'Galaxy Watch 4 LTE', 'Galaxy Watch 4 Classic LTE', 'Galaxy 46mm',\n",
       "       'Galaxy Active Steel 2 LTE', 'Galaxy Active Steel 2',\n",
       "       'Galaxy Active 42mm', 'Galaxy 44mm', 'Galaxy LTE', 'Gear Fit 2',\n",
       "       'Gear Fit', 'Galaxy Active 2 Steel', 'Gear S2',\n",
       "       'Galaxy Active Steel', 'Gear Fit 2 Pro', 'Gear 2', 'Neo Gear 2',\n",
       "       'Galaxy Active 46mm', 'Galaxy Watch LTE', 'Galaxy 42', 'Gear Live',\n",
       "       'Gear S3 Frontier', 'Gear Sport', 'Gear S2 Classic', 'T-Mobile',\n",
       "       'R600NZBAXAR 600', 'Gear R730V S2', 'Galaxy Gear',\n",
       "       'Activity Tracker', 'Gen 5 Carlyle HR', 'Gen 5 Garrett HR',\n",
       "       'Gen 5 Julianna HR', 'Latitude Hybrid HR', 'FB-01 Hybrid HR',\n",
       "       'Collider Hybrid', 'Sadie Hybrid', 'Commuter', 'Sport',\n",
       "       'Charter Hybrid HR', 'Carlie Hybrid', 'Carlie', 'Neutra Hybrid',\n",
       "       'Q Venture', 'Jacqueline', 'Q Neely', 'FTW5018 Hybrid',\n",
       "       'FTW5012 Hybrid', 'Jacqueline Hybrid', 'Q Annette', 'FTW6007',\n",
       "       'Gen 5E', 'FTW1151 Hybrid', 'Barstow Hybrid', 'Wander RG',\n",
       "       'Q Wander', 'Q Founder', 'Garrett Hybrid', 'Q Explorist',\n",
       "       'Marshall', 'Gen 3 Q Venture', 'FTW4003', 'Sport 43',\n",
       "       'The Carlyle HR', 'Garrett HR', '4th Gen Explorist HR', 'FTW6001',\n",
       "       'Q Founder 2.0', 'Cameron Hybrid', 'Gen 3 Q Explorist',\n",
       "       '4th Gen Venture HR', 'FTW6005', 'FTW1161 Hybrid',\n",
       "       'FTW1142 Q Hybrid', 'Cameron Hybrid Smartwatch', 'Sport 41',\n",
       "       'Q Jacqueline', 'Garrett', 'Machine Hybrid', 'Sloan HR', 'Neely',\n",
       "       'Rose Gold Smart', 'FTW1159 Hybrid', 'FTW4010 Gold HR',\n",
       "       'FTW6009 Black HR', 'Eleanor Hybrid', 'FTW1146 Q Hybrid',\n",
       "       'FTW20013 Q', 'FTW5016 Hybrid', 'FTW5017 Hybrid',\n",
       "       'FTW1141 Q Hybrid', 'FTW5003 Hybrid', 'Commuter Hybrid',\n",
       "       'Q MACHINE', 'FB-01 Hybrid', 'Q GRANT', 'FTW2114 Q',\n",
       "       'FTW1140 Q Hybrid', 'FTW1134 Q Hybrid', 'Q Control',\n",
       "       'FTW1144 Q Hybrid', 'Rose Gold HR', '5th Gen Julianna',\n",
       "       'Q Machine', 'FTW1145 Q Hybrid', 'FTW5011 Hybrid', 'FTW2120SET Q',\n",
       "       'FTW1136 Q Hybrid', 'FTW2115 Q Watch', 'FTW6010 Pink HR',\n",
       "       'Q ACTIVIST', 'FTW1154 Hybrid', 'FTW5015 Hybrid',\n",
       "       'FTW6006 Gold HR',\n",
       "       'Series 3 GPS - 42 mm Space Grey Aluminium Case',\n",
       "       'SE 44 mm Space Grey Aluminium Case',\n",
       "       'Series 3 GPS - 38 mm Space Grey Aluminium Case',\n",
       "       'SE GPS + Cellular 44 mm Aluminium Case',\n",
       "       'SE GPS + Cellular 40 mm Space Grey Aluminium Case',\n",
       "       'SE 40 mm Space Grey Aluminium Case',\n",
       "       'Series 6 GPS + Cellular 40 mm Red Aluminium Case',\n",
       "       'SE 44 mm Gold Aluminium Case',\n",
       "       'SE GPS + Cellular 40 mm Gold Aluminium Case',\n",
       "       'SE GPS + Cellular 40 mm Aluminium Case',\n",
       "       'Series 6 GPS 40 mm Silver Aluminium Case',\n",
       "       'Series 6 GPS + Cellular 40 mm Blue Aluminium Case',\n",
       "       'Series 6 GPS + Cellular 40 mm Graphite Stainless Steel Case',\n",
       "       'Series 6 GPS 44 mm Red Aluminium Case',\n",
       "       'SE GPS 44 mm Aluminium Case',\n",
       "       'Series 6 GPS + Cellular 40 mm Space Grey Aluminium Case',\n",
       "       'Series 5 GPS + Cellular 40 mm Space Black Stainless Steel Case',\n",
       "       'Series 5 GPS + Cellular 44 mm Gold Stainless Steel Case',\n",
       "       'Series 6 GPS 44 mm Blue Aluminium Case',\n",
       "       'Series 6 GPS + Cellular 44 mm Silver Aluminium Case',\n",
       "       'Series 6 GPS + Cellular 40 mm Gold Aluminium Case',\n",
       "       'Series 6 GPS + Cellular 40 mm Gold Stainless Steel Case',\n",
       "       'Series 5 GPS + Cellular 40 mm Stainless Steel Case',\n",
       "       'Series 5 GPS + Cellular 44 mm Gold Aluminium Case',\n",
       "       'Series 5 GPS + Cellular 44 mm Space Grey Aluminium Case',\n",
       "       'Series 2 - 38 mm Stainless Steel Case',\n",
       "       'Series 2 - 42 mm Stainless Steel Case',\n",
       "       'Series 2 - 42 mm Space Black Stainless Steel Case',\n",
       "       'Series 5 GPS + Cellular 40 mm Space Grey Aluminium Case',\n",
       "       'Series 6 GPS + Cellular 40 mm Silver Aluminium Case',\n",
       "       'SE GPS 40 mm Aluminium Case',\n",
       "       'Series 5 GPS + Cellular 44 mm Stainless Steel Case',\n",
       "       'Series 5 GPS 40 mm Silver Aluminium Case', 'Series 7 GPS 45 mm',\n",
       "       'SE GPS + Cellular 44 mm Space Grey Aluminium Case',\n",
       "       'Series 6 GPS + Cellular 44 mm Space Grey Aluminium Case',\n",
       "       'Series 7 GPS + Cellular 41 mm Aluminium',\n",
       "       'Series 7 GPS + Cellular, 45 mm Aluminium',\n",
       "       'SE GPS + Cellular 40 mm Silver Aluminium Case',\n",
       "       'Series 6 GPS 40 mm Blue Aluminium Case',\n",
       "       'Series 6 GPS 40 mm Gold Aluminium Case',\n",
       "       'Series 6 GPS + Cellular 44 mm Red Aluminium Case',\n",
       "       'Series 6 GPS 40 mm Space Grey Aluminium Case',\n",
       "       'Series 6 GPS + Cellular 44 mm Silver Stainless Steel Case',\n",
       "       'Nike Series 5 GPS + Cellular 44 mm',\n",
       "       'Series 6 GPS + Cellular 44 mm Blue Aluminium Case',\n",
       "       'SE GPS + Cellular 44 mm Gold Aluminium Case',\n",
       "       'SE GPS + Cellular 44 mm Silver Aluminium Case',\n",
       "       'Series 6 GPS 44 mm Space Grey Aluminium Case',\n",
       "       'Series 6 GPS 44 mm Silver Aluminium Case',\n",
       "       'Series 6 GPS + Cellular 44 mm Graphite Stainless Steel Case',\n",
       "       'Series 5 GPS + Cellular 44 mm Space Black Stainless Steel Case',\n",
       "       '42 mm White Ceramic Case with Cloud Sport',\n",
       "       'Series 7 GPS 41 mm Aluminium Case',\n",
       "       '38 mm Space Black Stainless Steel Case',\n",
       "       'Series 7 GPS + Cellular, 45 mm Stainless Steel',\n",
       "       'Sport 42 mm Space Grey Aluminium Case',\n",
       "       '8 mm Stainless Steel Case',\n",
       "       'Series 7 GPS + Cellular, 41 mm Stainless Steel',\n",
       "       '42 mm Black Stainless Steel Case with Link Bracelet',\n",
       "       '42 mm Space Gray Aluminium',\n",
       "       'Series 1 - 38 mm Silver Aluminium Case',\n",
       "       'Series 3 GPS + Cellular- 42 mm Gray Ceramic Case',\n",
       "       '42 mm Stainless Steel Case',\n",
       "       'Series 1 - 42 mm Gold Aluminium Case',\n",
       "       '2 - 42 mm Silver Aluminium Case',\n",
       "       'Nike+ GPS - 42 mm Space Gray Aluminium Case',\n",
       "       'Series 3 GPS + Cellular- 42 mm White Ceramic Case',\n",
       "       '38 mm Stainless Steel Stainless Steel Case with Modern Buckle',\n",
       "       'series 2 - 38 mm Stainless Steel Case',\n",
       "       'Nike+ - 38 mm Space Gray Aluminium Case',\n",
       "       'Venu Sq - Music Edition', 'Venu Sq', 'Garmin Instinct Tactical',\n",
       "       'Venu', 'Forerunner 45', 'Venu 2', 'Vivosmart 4',\n",
       "       'Garmin Instinct HR', 'Approach S62', 'Venu 2S',\n",
       "       'Forerunner 245 Music', 'Instinct', 'Forerunner 245',\n",
       "       'Vivomove Style', 'Fenix 6 Pro Solar', 'Fenix 6X',\n",
       "       'FORERUNNER 745 Magma Red', 'Fenix 6', 'Lily', 'Approach S12',\n",
       "       'Vivomove 3', 'Fenix 6X Solar', 'Fenix 5X', 'Vivomove Luxe',\n",
       "       'Vivomove', 'Fenix 6S', 'Forerunner 945', 'Forerunner 55',\n",
       "       'VIVOMOVE LUXE', 'Fenix 5X Plus', 'Swim 2', 'Vivoactive 3 Element',\n",
       "       'Vivomove 3S', 'Vivoactive 3 Music', 'Vivomove HR', 'HRM-Swim',\n",
       "       'Garmin Instinct Solar Tactical', 'Fenix 5S Frost Blue',\n",
       "       'Forerunner 935', 'Hybrid 3', 'Forerunner 245 Music Japan Edition',\n",
       "       'Fenix 5', 'Instinct Solar Tidal', 'Fenix 5S Plus',\n",
       "       'Fenix 6 Sapphire Titanium', 'Fenix 6 Sapphire Gray DLC',\n",
       "       'Forerunner 745 Whitestone', 'VIVOACTIVE 4S', 'Forerunner 235',\n",
       "       'Vivoactive 4', 'Forerunner 745 Black', 'Vivoactive HR',\n",
       "       'Fenix 5s', 'vivoactive 4S 40mm', 'Instinct Solar Camo Edition',\n",
       "       'Vivoactive 3 Element Cerise', 'VIVOMOVE 3S Navy',\n",
       "       'Forerunner15 Heart', 'Running GPS 935', 'Forerunner',\n",
       "       'Approach S20', 'Forerunner 235 Activity Tracker',\n",
       "       'Vivoactive 3 element', 'Fenix', 'Forerunner 35', 'Rubber 35',\n",
       "       'FORRUNNER 235', 'Forerunner Fitness Notifier', 'Vivoactive',\n",
       "       'Forerunner 735XT', 'HR GPS Smart', 'Hybrid', 'GT2 46mm',\n",
       "       'GT2 Pro', 'GT2 eSport', 'GT2 eActive', 'GT2 42mm',\n",
       "       'Stainless Steel', 'GT Active', 'GT Sport', 'GT Classic', 'Fit',\n",
       "       'Watch 2 Sport', 'Watch 32564546', 'Watch 2', 'Watch 36456',\n",
       "       'GT Fortuna-B19S Sport', 'HR', 'Vital', 'Vertex', 'Orbit Sport',\n",
       "       'Ignite S3', 'Ace', 'Orbit ', 'Ignite  ', 'Ignite Pro',\n",
       "       'Orbit - Special Edition', 'Trak', 'Watch Pro', 'ColorFit Caliber',\n",
       "       'Evolve 2 ', 'ColorFit IconBuzz', 'Pulsefit', 'Pulsefit P461',\n",
       "       'Pulsefit P261', 'Tronite', 'Rhythm', 'ZEB-FIT8220CH',\n",
       "       'ZEB-FIT4220CH', 'ZEB-FIT920CH', 'ZEB-FITMe', 'ZEB-FIT5220CH',\n",
       "       'ZEB-FIT1220CH', 'ZEB-FIT650CH', 'Smarttime 200', 'ZEB-FIT450',\n",
       "       'zeb-fit', 'Fit-650', 'Ninja touch to Wake', 'Ultron', 'Ninja Pro',\n",
       "       'Mercury', 'SpO2 Full Touch', 'Max', 'AI-BT Calling', 'BSW004',\n",
       "       'Spin', 'Talk Bluetooth', 'Almighty'], dtype=object)"
      ]
     },
     "execution_count": 69,
     "metadata": {},
     "output_type": "execute_result"
    }
   ],
   "source": [
    "df.model_name.unique()"
   ]
  },
  {
   "cell_type": "markdown",
   "id": "14cde5b1-b8e4-47c8-b843-f3c06bd3e5c8",
   "metadata": {},
   "source": [
    "#### display"
   ]
  },
  {
   "cell_type": "code",
   "execution_count": 70,
   "id": "a2ecb48c-6d36-43d1-bc7a-04ba779929a9",
   "metadata": {},
   "outputs": [
    {
     "data": {
      "text/plain": [
       "array(['AMOLED Display', 'LCD Display', 'OLED Display', 'PMOLED Display',\n",
       "       'LED Display', 'TFT-LCD Display', 'OLED Retina Display',\n",
       "       'IPS Display', 'HD Display'], dtype=object)"
      ]
     },
     "execution_count": 70,
     "metadata": {},
     "output_type": "execute_result"
    }
   ],
   "source": [
    "df.display.unique()"
   ]
  },
  {
   "cell_type": "code",
   "execution_count": 72,
   "id": "2be1193a-4743-4cf8-a772-b55165163029",
   "metadata": {},
   "outputs": [],
   "source": [
    "df.display = df.display.astype('category')"
   ]
  },
  {
   "cell_type": "markdown",
   "id": "5e2c92b7-6f12-4c16-8c2d-24e72f2c4b57",
   "metadata": {},
   "source": [
    "## Numerical variables"
   ]
  },
  {
   "cell_type": "code",
   "execution_count": 94,
   "id": "00f4919a-ccbb-40c0-a644-c40883fe5bf5",
   "metadata": {},
   "outputs": [
    {
     "data": {
      "text/html": [
       "<div>\n",
       "<style scoped>\n",
       "    .dataframe tbody tr th:only-of-type {\n",
       "        vertical-align: middle;\n",
       "    }\n",
       "\n",
       "    .dataframe tbody tr th {\n",
       "        vertical-align: top;\n",
       "    }\n",
       "\n",
       "    .dataframe thead th {\n",
       "        text-align: right;\n",
       "    }\n",
       "</style>\n",
       "<table border=\"1\" class=\"dataframe\">\n",
       "  <thead>\n",
       "    <tr style=\"text-align: right;\">\n",
       "      <th></th>\n",
       "      <th>selling_price_INR</th>\n",
       "      <th>selling_price_USD</th>\n",
       "      <th>original_price_INR</th>\n",
       "      <th>original_price_USD</th>\n",
       "      <th>rating</th>\n",
       "      <th>avg_battery_life_days</th>\n",
       "      <th>reviews</th>\n",
       "    </tr>\n",
       "  </thead>\n",
       "  <tbody>\n",
       "    <tr>\n",
       "      <th>count</th>\n",
       "      <td>610.0</td>\n",
       "      <td>610.0</td>\n",
       "      <td>610.0</td>\n",
       "      <td>610.0</td>\n",
       "      <td>554.0</td>\n",
       "      <td>610.0</td>\n",
       "      <td>114.0</td>\n",
       "    </tr>\n",
       "    <tr>\n",
       "      <th>mean</th>\n",
       "      <td>20707.0</td>\n",
       "      <td>248.0</td>\n",
       "      <td>23978.0</td>\n",
       "      <td>288.0</td>\n",
       "      <td>4.0</td>\n",
       "      <td>9.0</td>\n",
       "      <td>1943.0</td>\n",
       "    </tr>\n",
       "    <tr>\n",
       "      <th>std</th>\n",
       "      <td>19804.0</td>\n",
       "      <td>238.0</td>\n",
       "      <td>20243.0</td>\n",
       "      <td>243.0</td>\n",
       "      <td>0.0</td>\n",
       "      <td>8.0</td>\n",
       "      <td>4771.0</td>\n",
       "    </tr>\n",
       "    <tr>\n",
       "      <th>min</th>\n",
       "      <td>799.0</td>\n",
       "      <td>10.0</td>\n",
       "      <td>1599.0</td>\n",
       "      <td>19.0</td>\n",
       "      <td>2.0</td>\n",
       "      <td>1.0</td>\n",
       "      <td>2.0</td>\n",
       "    </tr>\n",
       "    <tr>\n",
       "      <th>25%</th>\n",
       "      <td>6995.0</td>\n",
       "      <td>84.0</td>\n",
       "      <td>10249.0</td>\n",
       "      <td>123.0</td>\n",
       "      <td>4.0</td>\n",
       "      <td>2.0</td>\n",
       "      <td>80.0</td>\n",
       "    </tr>\n",
       "    <tr>\n",
       "      <th>50%</th>\n",
       "      <td>14999.0</td>\n",
       "      <td>180.0</td>\n",
       "      <td>18995.0</td>\n",
       "      <td>228.0</td>\n",
       "      <td>4.0</td>\n",
       "      <td>7.0</td>\n",
       "      <td>288.0</td>\n",
       "    </tr>\n",
       "    <tr>\n",
       "      <th>75%</th>\n",
       "      <td>27468.0</td>\n",
       "      <td>330.0</td>\n",
       "      <td>31417.0</td>\n",
       "      <td>377.0</td>\n",
       "      <td>4.0</td>\n",
       "      <td>14.0</td>\n",
       "      <td>904.0</td>\n",
       "    </tr>\n",
       "    <tr>\n",
       "      <th>max</th>\n",
       "      <td>122090.0</td>\n",
       "      <td>1465.0</td>\n",
       "      <td>122090.0</td>\n",
       "      <td>1465.0</td>\n",
       "      <td>5.0</td>\n",
       "      <td>45.0</td>\n",
       "      <td>23426.0</td>\n",
       "    </tr>\n",
       "  </tbody>\n",
       "</table>\n",
       "</div>"
      ],
      "text/plain": [
       "       selling_price_INR  selling_price_USD  original_price_INR  \\\n",
       "count              610.0              610.0               610.0   \n",
       "mean             20707.0              248.0             23978.0   \n",
       "std              19804.0              238.0             20243.0   \n",
       "min                799.0               10.0              1599.0   \n",
       "25%               6995.0               84.0             10249.0   \n",
       "50%              14999.0              180.0             18995.0   \n",
       "75%              27468.0              330.0             31417.0   \n",
       "max             122090.0             1465.0            122090.0   \n",
       "\n",
       "       original_price_USD  rating  avg_battery_life_days  reviews  \n",
       "count               610.0   554.0                  610.0    114.0  \n",
       "mean                288.0     4.0                    9.0   1943.0  \n",
       "std                 243.0     0.0                    8.0   4771.0  \n",
       "min                  19.0     2.0                    1.0      2.0  \n",
       "25%                 123.0     4.0                    2.0     80.0  \n",
       "50%                 228.0     4.0                    7.0    288.0  \n",
       "75%                 377.0     4.0                   14.0    904.0  \n",
       "max                1465.0     5.0                   45.0  23426.0  "
      ]
     },
     "execution_count": 94,
     "metadata": {},
     "output_type": "execute_result"
    }
   ],
   "source": [
    "df.describe().round()"
   ]
  },
  {
   "cell_type": "markdown",
   "id": "ba2ae019-8f37-4719-ae47-a96a8d192af3",
   "metadata": {},
   "source": [
    "## Missing values"
   ]
  },
  {
   "cell_type": "code",
   "execution_count": 95,
   "id": "4531f578-085e-473d-95e8-b525d872fe91",
   "metadata": {},
   "outputs": [
    {
     "data": {
      "text/plain": [
       "brand_name                 0\n",
       "device_type                0\n",
       "model_name                 0\n",
       "color                      0\n",
       "selling_price_INR          0\n",
       "selling_price_USD          0\n",
       "original_price_INR         0\n",
       "original_price_USD         0\n",
       "display                    0\n",
       "rating                    56\n",
       "strap_material             0\n",
       "avg_battery_life_days      0\n",
       "reviews                  496\n",
       "dtype: int64"
      ]
     },
     "execution_count": 95,
     "metadata": {},
     "output_type": "execute_result"
    }
   ],
   "source": [
    "df.isna().sum()"
   ]
  },
  {
   "cell_type": "markdown",
   "id": "eca40b70-13bd-4327-871e-030d33e7ddcf",
   "metadata": {},
   "source": [
    "It's common to have missing values in both `rating` and `reviews` columns. Not everybody gives a rating value or leaves a review."
   ]
  },
  {
   "cell_type": "markdown",
   "id": "00aaa67d-ef0c-44c4-ba66-78d295a6ebe0",
   "metadata": {},
   "source": [
    "I quick check to the rating values, which should be ranging from 0 to 5."
   ]
  },
  {
   "cell_type": "code",
   "execution_count": 102,
   "id": "5cff52f0-0ff3-48f8-87a7-221401328f07",
   "metadata": {},
   "outputs": [
    {
     "data": {
      "text/plain": [
       "min     2.000000\n",
       "max     5.000000\n",
       "mean    4.195668\n",
       "Name: rating, dtype: float64"
      ]
     },
     "execution_count": 102,
     "metadata": {},
     "output_type": "execute_result"
    }
   ],
   "source": [
    "df.rating.agg([min, max, 'mean'])"
   ]
  },
  {
   "cell_type": "code",
   "execution_count": 103,
   "id": "c05d4e5a-8f99-4fc6-98dc-21bd4b07f5bd",
   "metadata": {},
   "outputs": [
    {
     "data": {
      "text/html": [
       "<div>\n",
       "<style scoped>\n",
       "    .dataframe tbody tr th:only-of-type {\n",
       "        vertical-align: middle;\n",
       "    }\n",
       "\n",
       "    .dataframe tbody tr th {\n",
       "        vertical-align: top;\n",
       "    }\n",
       "\n",
       "    .dataframe thead th {\n",
       "        text-align: right;\n",
       "    }\n",
       "</style>\n",
       "<table border=\"1\" class=\"dataframe\">\n",
       "  <thead>\n",
       "    <tr style=\"text-align: right;\">\n",
       "      <th></th>\n",
       "      <th>brand_name</th>\n",
       "      <th>device_type</th>\n",
       "      <th>model_name</th>\n",
       "      <th>color</th>\n",
       "      <th>selling_price_INR</th>\n",
       "      <th>selling_price_USD</th>\n",
       "      <th>original_price_INR</th>\n",
       "      <th>original_price_USD</th>\n",
       "      <th>display</th>\n",
       "      <th>rating</th>\n",
       "      <th>strap_material</th>\n",
       "      <th>avg_battery_life_days</th>\n",
       "      <th>reviews</th>\n",
       "    </tr>\n",
       "  </thead>\n",
       "  <tbody>\n",
       "    <tr>\n",
       "      <th>608</th>\n",
       "      <td>Fire-Boltt</td>\n",
       "      <td>Smartwatch</td>\n",
       "      <td>Spin</td>\n",
       "      <td>White</td>\n",
       "      <td>5846.0</td>\n",
       "      <td>70.152</td>\n",
       "      <td>5999.0</td>\n",
       "      <td>71.988</td>\n",
       "      <td>TFT-LCD Display</td>\n",
       "      <td>2.4</td>\n",
       "      <td>Silicone</td>\n",
       "      <td>5</td>\n",
       "      <td>15.0</td>\n",
       "    </tr>\n",
       "    <tr>\n",
       "      <th>428</th>\n",
       "      <td>Apple</td>\n",
       "      <td>Smartwatch</td>\n",
       "      <td>42 mm Space Gray Aluminium</td>\n",
       "      <td>Black Woven</td>\n",
       "      <td>29900.0</td>\n",
       "      <td>358.800</td>\n",
       "      <td>29900.0</td>\n",
       "      <td>358.800</td>\n",
       "      <td>OLED Retina Display</td>\n",
       "      <td>4.5</td>\n",
       "      <td>Aluminium</td>\n",
       "      <td>1</td>\n",
       "      <td>NaN</td>\n",
       "    </tr>\n",
       "    <tr>\n",
       "      <th>27</th>\n",
       "      <td>Fitbit</td>\n",
       "      <td>Smartwatch</td>\n",
       "      <td>Versa 2 Special Edition</td>\n",
       "      <td>Multicolor</td>\n",
       "      <td>15499.0</td>\n",
       "      <td>185.988</td>\n",
       "      <td>23999.0</td>\n",
       "      <td>287.988</td>\n",
       "      <td>AMOLED Display</td>\n",
       "      <td>4.4</td>\n",
       "      <td>Silicone</td>\n",
       "      <td>7</td>\n",
       "      <td>NaN</td>\n",
       "    </tr>\n",
       "    <tr>\n",
       "      <th>245</th>\n",
       "      <td>Fossil</td>\n",
       "      <td>Smartwatch</td>\n",
       "      <td>FTW5018 Hybrid</td>\n",
       "      <td>Gold</td>\n",
       "      <td>11596.0</td>\n",
       "      <td>139.152</td>\n",
       "      <td>14495.0</td>\n",
       "      <td>173.940</td>\n",
       "      <td>AMOLED Display</td>\n",
       "      <td>4.5</td>\n",
       "      <td>Stainless Steel</td>\n",
       "      <td>2</td>\n",
       "      <td>NaN</td>\n",
       "    </tr>\n",
       "    <tr>\n",
       "      <th>450</th>\n",
       "      <td>Garmin</td>\n",
       "      <td>Smartwatch</td>\n",
       "      <td>Forerunner 245 Music</td>\n",
       "      <td>Black, Red</td>\n",
       "      <td>30000.0</td>\n",
       "      <td>360.000</td>\n",
       "      <td>36490.0</td>\n",
       "      <td>437.880</td>\n",
       "      <td>LED Display</td>\n",
       "      <td>4.2</td>\n",
       "      <td>Silicone</td>\n",
       "      <td>7</td>\n",
       "      <td>NaN</td>\n",
       "    </tr>\n",
       "  </tbody>\n",
       "</table>\n",
       "</div>"
      ],
      "text/plain": [
       "     brand_name device_type                  model_name        color  \\\n",
       "608  Fire-Boltt  Smartwatch                        Spin        White   \n",
       "428       Apple  Smartwatch  42 mm Space Gray Aluminium  Black Woven   \n",
       "27       Fitbit  Smartwatch     Versa 2 Special Edition   Multicolor   \n",
       "245     Fossil   Smartwatch              FTW5018 Hybrid         Gold   \n",
       "450     Garmin   Smartwatch        Forerunner 245 Music   Black, Red   \n",
       "\n",
       "     selling_price_INR  selling_price_USD  original_price_INR  \\\n",
       "608             5846.0             70.152              5999.0   \n",
       "428            29900.0            358.800             29900.0   \n",
       "27             15499.0            185.988             23999.0   \n",
       "245            11596.0            139.152             14495.0   \n",
       "450            30000.0            360.000             36490.0   \n",
       "\n",
       "     original_price_USD              display  rating   strap_material  \\\n",
       "608              71.988      TFT-LCD Display     2.4         Silicone   \n",
       "428             358.800  OLED Retina Display     4.5        Aluminium   \n",
       "27              287.988       AMOLED Display     4.4         Silicone   \n",
       "245             173.940       AMOLED Display     4.5  Stainless Steel   \n",
       "450             437.880          LED Display     4.2         Silicone   \n",
       "\n",
       "     avg_battery_life_days  reviews  \n",
       "608                      5     15.0  \n",
       "428                      1      NaN  \n",
       "27                       7      NaN  \n",
       "245                      2      NaN  \n",
       "450                      7      NaN  "
      ]
     },
     "execution_count": 103,
     "metadata": {},
     "output_type": "execute_result"
    }
   ],
   "source": [
    "df.sample(5)"
   ]
  },
  {
   "cell_type": "markdown",
   "id": "a16ad1f7-7d29-4768-8b1c-7c6af17a9232",
   "metadata": {},
   "source": [
    "Finally, I will save the clean dataset:"
   ]
  },
  {
   "cell_type": "code",
   "execution_count": null,
   "id": "b8984a38-fece-4cbc-8020-ae73f00e529b",
   "metadata": {},
   "outputs": [],
   "source": [
    "df.to_csv('clean_fitness_dataset.csv', index=False)"
   ]
  }
 ],
 "metadata": {
  "kernelspec": {
   "display_name": "data_venv",
   "language": "python",
   "name": "data_venv"
  },
  "language_info": {
   "codemirror_mode": {
    "name": "ipython",
    "version": 3
   },
   "file_extension": ".py",
   "mimetype": "text/x-python",
   "name": "python",
   "nbconvert_exporter": "python",
   "pygments_lexer": "ipython3",
   "version": "3.11.5"
  }
 },
 "nbformat": 4,
 "nbformat_minor": 5
}
